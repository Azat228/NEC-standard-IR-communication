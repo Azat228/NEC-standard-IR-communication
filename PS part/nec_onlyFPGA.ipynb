{
 "cells": [
  {
   "cell_type": "code",
   "execution_count": 30,
   "id": "4625209d",
   "metadata": {},
   "outputs": [
    {
     "name": "stdout",
     "output_type": "stream",
     "text": [
      "Finish\n"
     ]
    }
   ],
   "source": [
    "from pynq import Bitstream, MMIO\n",
    "from time import sleep\n",
    "\n",
    "bit = \"/home/xilinx/jupyter_notebooks/xilinx/overlays/nec/design_1_wrapper.bit\"\n",
    "Bitstream(bit).download()\n",
    "\n",
    "# AXI GPIO base addresses (verify these match your design's address map)\n",
    "GPIO0_BASE = 0x41200000  # addr/cmd GPIO\n",
    "GPIO1_BASE = 0x41210000  # strobe GPIO\n",
    "\n",
    "gpio0 = MMIO(GPIO0_BASE, 0x10000)\n",
    "gpio1 = MMIO(GPIO1_BASE, 0x10000)\n",
    "\n",
    "# AXI GPIO register offsets (per IP)\n",
    "CH1_DATA = 0x00\n",
    "CH1_TRI  = 0x04\n",
    "CH2_DATA = 0x08\n",
    "CH2_TRI  = 0x0C\n",
    "\n",
    "# Set directions: all outputs\n",
    "gpio0.write(CH1_TRI, 0x00000000)  # channel 1 (addr) out\n",
    "gpio0.write(CH2_TRI, 0x00000000)  # channel 2 (cmd) out\n",
    "gpio1.write(CH1_TRI, 0x00000000)  # channel 1 (strobe) out\n",
    "\n",
    "def pulse(mmio, data_ofs, width_us=50):\n",
    "    # If your logic is edge-triggered, the exact width is not critical.\n",
    "    mmio.write(data_ofs, 1)\n",
    "    # Ensure the write posts; a tiny delay helps and is more reliable than tens of microseconds in Python.\n",
    "    sleep(max(width_us/1e6, 0.001))  # at least 1 ms for reliability\n",
    "    mmio.write(data_ofs, 0)\n",
    "\n",
    "def nec_send_cmd(addr, cmd, send_pulse_us=50, inter_frame_ms=100):\n",
    "    gpio0.write(CH1_DATA, addr & 0xFF)   # address byte\n",
    "    gpio0.write(CH2_DATA, cmd  & 0xFF)   # command byte\n",
    "    pulse(gpio1, CH1_DATA, send_pulse_us)  # strobe on second GPIO\n",
    "    sleep(inter_frame_ms/1e3)\n",
    "    \n",
    "def cmd_table(cmd_to_nec):\n",
    "    match cmd_to_nec:\n",
    "        case '0':  return nec_send_cmd(0x68,0x00)\n",
    "        case '1':  return nec_send_cmd(0x30,0x00)\n",
    "        case '2':  return nec_send_cmd(0x18,0x00)\n",
    "        case '3':  return nec_send_cmd(0x7A,0x00)\n",
    "        case '4':  return nec_send_cmd(0x10,0x00)\n",
    "        case '5':  return nec_send_cmd(0x38,0x00)\n",
    "        case '6':  return nec_send_cmd(0x5A,0x00)\n",
    "        case '7':  return nec_send_cmd(0x42,0x00)\n",
    "        case '8':  return nec_send_cmd(0x4A,0x00)\n",
    "        case '9':  return nec_send_cmd(0x52,0x00)\n",
    "        case '-':  return nec_send_cmd(0xE0,0x00)\n",
    "        case '+':  return nec_send_cmd(0xA8,0x00)\n",
    "\n",
    "cmd_table('-')\n",
    "sleep(4)\n",
    "cmd_table('0')\n",
    "sleep(4)\n",
    "cmd_table('0')\n",
    "sleep(4)\n",
    "cmd_table('0')\n",
    "sleep(4)\n",
    "cmd_table('5')\n",
    "sleep(4)\n",
    "cmd_table('+')\n",
    "sleep(4)\n",
    "print(\"Finish\")"
   ]
  },
  {
   "cell_type": "code",
   "execution_count": null,
   "id": "f529d6c0",
   "metadata": {},
   "outputs": [],
   "source": []
  },
  {
   "cell_type": "code",
   "execution_count": null,
   "id": "bc05fef4",
   "metadata": {},
   "outputs": [],
   "source": []
  }
 ],
 "metadata": {
  "kernelspec": {
   "display_name": "Python 3 (ipykernel)",
   "language": "python",
   "name": "python3"
  },
  "language_info": {
   "codemirror_mode": {
    "name": "ipython",
    "version": 3
   },
   "file_extension": ".py",
   "mimetype": "text/x-python",
   "name": "python",
   "nbconvert_exporter": "python",
   "pygments_lexer": "ipython3",
   "version": "3.10.4"
  }
 },
 "nbformat": 4,
 "nbformat_minor": 5
}

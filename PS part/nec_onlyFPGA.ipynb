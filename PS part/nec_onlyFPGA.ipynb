{
 "cells": [
  {
   "cell_type": "code",
   "execution_count": 20,
   "id": "4625209d",
   "metadata": {},
   "outputs": [
    {
     "name": "stdout",
     "output_type": "stream",
     "text": [
      "finish\n"
     ]
    }
   ],
   "source": [
    "from pynq import Bitstream, MMIO\n",
    "from time import sleep\n",
    "\n",
    "bit = \"/home/xilinx/jupyter_notebooks/xilinx/overlays/nec/design_1_wrapper.bit\"\n",
    "Bitstream(bit).download()\n",
    "\n",
    "# AXI GPIO base addresses (verify these match your design's address map)\n",
    "GPIO0_BASE = 0x41200000  # addr/cmd GPIO\n",
    "\n",
    "gpio0 = MMIO(GPIO0_BASE, 0x10000)\n",
    "# AXI GPIO register offsets (per IP)\n",
    "CH1_DATA = 0x00\n",
    "CH1_TRI  = 0x04\n",
    "\n",
    "# Set directions: all outputs\n",
    "gpio0.write(CH1_TRI, 0x00000000)  # channel 1 hardcore out\n",
    "\n",
    "def nec_send_cmd(hardcode):\n",
    "    gpio0.write(0x00, hardcode & 0xFFFFFFFF)   # address byte\n",
    "    \n",
    "    \n",
    "# def cmd_table(cmd_to_nec):\n",
    "#     match cmd_to_nec:\n",
    "#         case '0':  return nec_send_cmd(0x68,0x00)\n",
    "#         case '1':  return nec_send_cmd(0x30,0x00)\n",
    "#         case '2':  return nec_send_cmd(0x18,0x00)\n",
    "#         case '3':  return nec_send_cmd(0x7A,0x00)\n",
    "#         case '4':  return nec_send_cmd(0x10,0x00)\n",
    "#         case '5':  return nec_send_cmd(0x38,0x00)\n",
    "#         case '6':  return nec_send_cmd(0x5A,0x00)\n",
    "#         case '7':  return nec_send_cmd(0x42,0x00)\n",
    "#         case '8':  return nec_send_cmd(0x4A,0x00)\n",
    "#         case '9':  return nec_send_cmd(0x52,0x00)\n",
    "#         case '-':  return nec_send_cmd(0xE0,0x00)\n",
    "#         case '+':  return nec_send_cmd(0xA8,0x00)\n",
    "\n",
    "nec_send_cmd(0x00FFE916)\n",
    "print(\"finish\")\n",
    "\n",
    "# def nec_word(addr, cmd):\n",
    "#     return (addr & 0xFF) | ((~addr & 0xFF) << 8) | ((cmd & 0xFF) << 16) | ((~cmd & 0xFF) << 24)\n",
    "# # Example: nec_word(0x00, 0x68) == 0x00FF6897\n",
    "# def irremote_lsb32(word):\n",
    "#     def rev8(x): return int('{:08b}'.format(x)[::-1], 2)\n",
    "#     b = [(word >> (8*i)) & 0xFF for i in range(4)]      # [b0,b1,b2,b3] = [addr, ~addr, cmd, ~cmd]\n",
    "#     lsb_hex = (rev8(b[3])<<24) | (rev8(b[2])<<16) | (rev8(b[1])<<8) | rev8(b[0])\n",
    "#     return lsb_hex\n",
    "# print(hex(irremote_lsb32(nec_word(0x00, 0x68))))  # -> 0xE916FF00 (what you should see)\n"
   ]
  },
  {
   "cell_type": "code",
   "execution_count": null,
   "id": "f529d6c0",
   "metadata": {},
   "outputs": [],
   "source": []
  },
  {
   "cell_type": "code",
   "execution_count": null,
   "id": "bc05fef4",
   "metadata": {},
   "outputs": [],
   "source": []
  },
  {
   "cell_type": "code",
   "execution_count": null,
   "id": "5cf18226",
   "metadata": {},
   "outputs": [],
   "source": []
  }
 ],
 "metadata": {
  "kernelspec": {
   "display_name": "Python 3 (ipykernel)",
   "language": "python",
   "name": "python3"
  },
  "language_info": {
   "codemirror_mode": {
    "name": "ipython",
    "version": 3
   },
   "file_extension": ".py",
   "mimetype": "text/x-python",
   "name": "python",
   "nbconvert_exporter": "python",
   "pygments_lexer": "ipython3",
   "version": "3.10.4"
  }
 },
 "nbformat": 4,
 "nbformat_minor": 5
}

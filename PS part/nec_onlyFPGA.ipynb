{
 "cells": [
  {
   "cell_type": "code",
   "execution_count": 26,
   "id": "4625209d",
   "metadata": {},
   "outputs": [
    {
     "name": "stdout",
     "output_type": "stream",
     "text": [
      "Cleanup complete\n"
     ]
    }
   ],
   "source": [
    "from pynq import Overlay, MMIO\n",
    "from time import sleep\n",
    "\n",
    "class NEC_IR_Controller:\n",
    "    def __init__(self, bitfile_path):\n",
    "        # Load the overlay\n",
    "        self.ol = Overlay(bitfile_path)\n",
    "        self.ol.download()\n",
    "        \n",
    "        # Configure GPIO addresses (adjust these to match your Vivado design)\n",
    "        self.NEC_GPIO_BASE = 0x41200000  # Output for NEC transmission\n",
    "        \n",
    "        # Initialize MMIO interfaces\n",
    "        self.nec_gpio = MMIO(self.NEC_GPIO_BASE, 0x10000)\n",
    "        \n",
    "        # Configure directions:\n",
    "        self.nec_gpio.write(0x04, 0x00000000)  # All outputs for NEC\n",
    "        self.nec_gpio.write(0x0C, 0x00000000)  # All outputs for button control\n",
    "        \n",
    "        # Timing parameters\n",
    "        self.NEC_HOLD_TIME = 4  # 70ms hold for NEC frame\n",
    "        self.BTN_PULSE_WIDTH = 0.05  # 50ms pulse width for button\n",
    "\n",
    "    def send_nec_command(self, value):\n",
    "        \"\"\"Send a 32-bit NEC command to the PL transmitter with button trigger\"\"\"\n",
    "        # Step 1: Write the NEC command\n",
    "        self.nec_gpio.write(0x00, 0)\n",
    "        sleep(self.BTN_PULSE_WIDTH)\n",
    "        self.nec_gpio.write(0x00, value)\n",
    "        \n",
    "        # Step 2: Pulse the button signal\n",
    "        self.nec_gpio.write(0x08, 0x1)  # Assert button\n",
    "        sleep(self.BTN_PULSE_WIDTH)\n",
    "        self.nec_gpio.write(0x08, 0x0)  # Deassert button\n",
    "        \n",
    "        # Step 3: Hold the NEC command for the required duration\n",
    "        sleep(self.NEC_HOLD_TIME)\n",
    "        \n",
    "        # Step 4: Clear the NEC command\n",
    "        self.nec_gpio.write(0x00, 0)\n",
    "\n",
    "# Example usage:\n",
    "if __name__ == \"__main__\":\n",
    "    # Initialize with correct class name\n",
    "    ir = NEC_IR_Controller(\n",
    "        \"/home/xilinx/jupyter_notebooks/xilinx/overlays/nec/design_1_wrapper.bit\"\n",
    "    )\n",
    "    \n",
    "    try:\n",
    "        # Example 1: Send NEC code for \"0\" button (address 0x00, command 0x68)\n",
    "        ir.send_nec_command(0x00FFE01F)\n",
    "        sleep(0.1)\n",
    "        ir.send_nec_command(0x00FF6897)\n",
    "        sleep(0.1)\n",
    "        ir.send_nec_command(0x00FF6897)\n",
    "        sleep(0.1)\n",
    "        ir.send_nec_command(0x00FF6897)\n",
    "        sleep(0.1)\n",
    "        ir.send_nec_command(0x00FF38C7)\n",
    "        sleep(0.1)\n",
    "        ir.send_nec_command(0x00FFA857)\n",
    "        \n",
    "        # Add delay between commands if sending multiple\n",
    "        \n",
    "    except Exception as e:\n",
    "        print(f\"Error: {e}\")\n",
    "    finally:\n",
    "        # Clean up GPIO states\n",
    "        ir.nec_gpio.write(0x00, 0)\n",
    "        ir.nec_gpio.write(0x08, 0)\n",
    "        print(\"Cleanup complete\")"
   ]
  },
  {
   "cell_type": "code",
   "execution_count": null,
   "id": "f529d6c0",
   "metadata": {},
   "outputs": [],
   "source": []
  },
  {
   "cell_type": "code",
   "execution_count": null,
   "id": "bc05fef4",
   "metadata": {},
   "outputs": [],
   "source": []
  },
  {
   "cell_type": "code",
   "execution_count": null,
   "id": "5cf18226",
   "metadata": {},
   "outputs": [],
   "source": []
  }
 ],
 "metadata": {
  "kernelspec": {
   "display_name": "Python 3 (ipykernel)",
   "language": "python",
   "name": "python3"
  },
  "language_info": {
   "codemirror_mode": {
    "name": "ipython",
    "version": 3
   },
   "file_extension": ".py",
   "mimetype": "text/x-python",
   "name": "python",
   "nbconvert_exporter": "python",
   "pygments_lexer": "ipython3",
   "version": "3.10.4"
  }
 },
 "nbformat": 4,
 "nbformat_minor": 5
}
